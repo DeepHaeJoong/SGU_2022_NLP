{
 "cells": [
  {
   "cell_type": "markdown",
   "id": "17d7d83d",
   "metadata": {},
   "source": [
    "## Tutorial of DialoGPT"
   ]
  },
  {
   "cell_type": "code",
   "execution_count": 2,
   "id": "595ca4fe",
   "metadata": {
    "ExecuteTime": {
     "end_time": "2022-12-13T08:28:50.701271Z",
     "start_time": "2022-12-13T08:28:39.213469Z"
    }
   },
   "outputs": [
    {
     "name": "stderr",
     "output_type": "stream",
     "text": [
      "WARNING: Ignoring invalid distribution -orch (c:\\users\\lhj91\\anaconda3\\envs\\torch\\lib\\site-packages)\n",
      "WARNING: Ignoring invalid distribution -illow (c:\\users\\lhj91\\anaconda3\\envs\\torch\\lib\\site-packages)\n",
      "WARNING: Ignoring invalid distribution -atplotlib (c:\\users\\lhj91\\anaconda3\\envs\\torch\\lib\\site-packages)\n",
      "WARNING: Ignoring invalid distribution -orch (c:\\users\\lhj91\\anaconda3\\envs\\torch\\lib\\site-packages)\n",
      "WARNING: Ignoring invalid distribution -illow (c:\\users\\lhj91\\anaconda3\\envs\\torch\\lib\\site-packages)\n",
      "WARNING: Ignoring invalid distribution -atplotlib (c:\\users\\lhj91\\anaconda3\\envs\\torch\\lib\\site-packages)\n",
      "WARNING: Ignoring invalid distribution -orch (c:\\users\\lhj91\\anaconda3\\envs\\torch\\lib\\site-packages)\n",
      "WARNING: Ignoring invalid distribution -illow (c:\\users\\lhj91\\anaconda3\\envs\\torch\\lib\\site-packages)\n",
      "WARNING: Ignoring invalid distribution -atplotlib (c:\\users\\lhj91\\anaconda3\\envs\\torch\\lib\\site-packages)\n",
      "WARNING: Ignoring invalid distribution -orch (c:\\users\\lhj91\\anaconda3\\envs\\torch\\lib\\site-packages)\n",
      "WARNING: Ignoring invalid distribution -illow (c:\\users\\lhj91\\anaconda3\\envs\\torch\\lib\\site-packages)\n",
      "WARNING: Ignoring invalid distribution -atplotlib (c:\\users\\lhj91\\anaconda3\\envs\\torch\\lib\\site-packages)\n",
      "WARNING: Ignoring invalid distribution -orch (c:\\users\\lhj91\\anaconda3\\envs\\torch\\lib\\site-packages)\n",
      "WARNING: Ignoring invalid distribution -illow (c:\\users\\lhj91\\anaconda3\\envs\\torch\\lib\\site-packages)\n",
      "WARNING: Ignoring invalid distribution -atplotlib (c:\\users\\lhj91\\anaconda3\\envs\\torch\\lib\\site-packages)\n",
      "WARNING: Ignoring invalid distribution -orch (c:\\users\\lhj91\\anaconda3\\envs\\torch\\lib\\site-packages)\n",
      "WARNING: Ignoring invalid distribution -illow (c:\\users\\lhj91\\anaconda3\\envs\\torch\\lib\\site-packages)\n",
      "WARNING: Ignoring invalid distribution -atplotlib (c:\\users\\lhj91\\anaconda3\\envs\\torch\\lib\\site-packages)\n",
      "WARNING: Ignoring invalid distribution -orch (c:\\users\\lhj91\\anaconda3\\envs\\torch\\lib\\site-packages)\n",
      "WARNING: Ignoring invalid distribution -illow (c:\\users\\lhj91\\anaconda3\\envs\\torch\\lib\\site-packages)\n",
      "WARNING: Ignoring invalid distribution -atplotlib (c:\\users\\lhj91\\anaconda3\\envs\\torch\\lib\\site-packages)\n",
      "WARNING: Ignoring invalid distribution -orch (c:\\users\\lhj91\\anaconda3\\envs\\torch\\lib\\site-packages)\n",
      "WARNING: Ignoring invalid distribution -illow (c:\\users\\lhj91\\anaconda3\\envs\\torch\\lib\\site-packages)\n",
      "WARNING: Ignoring invalid distribution -atplotlib (c:\\users\\lhj91\\anaconda3\\envs\\torch\\lib\\site-packages)\n",
      "WARNING: Ignoring invalid distribution -orch (c:\\users\\lhj91\\anaconda3\\envs\\torch\\lib\\site-packages)\n",
      "WARNING: Ignoring invalid distribution -illow (c:\\users\\lhj91\\anaconda3\\envs\\torch\\lib\\site-packages)\n",
      "WARNING: Ignoring invalid distribution -atplotlib (c:\\users\\lhj91\\anaconda3\\envs\\torch\\lib\\site-packages)\n"
     ]
    }
   ],
   "source": [
    "! pip -q install transformers"
   ]
  },
  {
   "cell_type": "code",
   "execution_count": 3,
   "id": "a40342c8",
   "metadata": {
    "ExecuteTime": {
     "end_time": "2022-12-13T08:28:59.165965Z",
     "start_time": "2022-12-13T08:28:53.068041Z"
    }
   },
   "outputs": [],
   "source": [
    "from transformers import (\n",
    "    MODEL_WITH_LM_HEAD_MAPPING,\n",
    "    WEIGHTS_NAME,\n",
    "    AdamW,\n",
    "    AutoConfig,\n",
    "    AutoModelWithLMHead,\n",
    "    AutoTokenizer,\n",
    "    PreTrainedModel,\n",
    "    PreTrainedTokenizer,\n",
    "    get_linear_schedule_with_warmup,\n",
    ")"
   ]
  },
  {
   "cell_type": "markdown",
   "id": "aa1babc5",
   "metadata": {},
   "source": [
    "### Try to chat with DialoGPT without fine-tuning."
   ]
  },
  {
   "cell_type": "code",
   "execution_count": 4,
   "id": "b2bdff06",
   "metadata": {
    "ExecuteTime": {
     "end_time": "2022-12-13T08:33:42.078381Z",
     "start_time": "2022-12-13T08:33:06.072180Z"
    },
    "scrolled": true
   },
   "outputs": [
    {
     "data": {
      "application/vnd.jupyter.widget-view+json": {
       "model_id": "0132b7036d264c58899d528672485711",
       "version_major": 2,
       "version_minor": 0
      },
      "text/plain": [
       "Downloading:   0%|          | 0.00/26.0 [00:00<?, ?B/s]"
      ]
     },
     "metadata": {},
     "output_type": "display_data"
    },
    {
     "name": "stderr",
     "output_type": "stream",
     "text": [
      "C:\\Users\\lhj91\\Anaconda3\\envs\\torch\\lib\\site-packages\\huggingface_hub\\file_download.py:127: UserWarning: `huggingface_hub` cache-system uses symlinks by default to efficiently store duplicated files but your machine does not support them in C:\\Users\\lhj91\\.cache\\huggingface\\hub. Caching files will still work but in a degraded version that might require more space on your disk. This warning can be disabled by setting the `HF_HUB_DISABLE_SYMLINKS_WARNING` environment variable. For more details, see https://huggingface.co/docs/huggingface_hub/how-to-cache#limitations.\n",
      "To support symlinks on Windows, you either need to activate Developer Mode or to run Python as an administrator. In order to see activate developer mode, see this article: https://docs.microsoft.com/en-us/windows/apps/get-started/enable-your-device-for-development\n",
      "  warnings.warn(message)\n"
     ]
    },
    {
     "data": {
      "application/vnd.jupyter.widget-view+json": {
       "model_id": "d9e6327f26ad4b76ad29716573a80ed8",
       "version_major": 2,
       "version_minor": 0
      },
      "text/plain": [
       "Downloading:   0%|          | 0.00/641 [00:00<?, ?B/s]"
      ]
     },
     "metadata": {},
     "output_type": "display_data"
    },
    {
     "data": {
      "application/vnd.jupyter.widget-view+json": {
       "model_id": "547086ddb5b54bd3a995802193426ef0",
       "version_major": 2,
       "version_minor": 0
      },
      "text/plain": [
       "Downloading:   0%|          | 0.00/1.04M [00:00<?, ?B/s]"
      ]
     },
     "metadata": {},
     "output_type": "display_data"
    },
    {
     "data": {
      "application/vnd.jupyter.widget-view+json": {
       "model_id": "20e6c3e9736c450eb35f9340fc779f61",
       "version_major": 2,
       "version_minor": 0
      },
      "text/plain": [
       "Downloading:   0%|          | 0.00/456k [00:00<?, ?B/s]"
      ]
     },
     "metadata": {},
     "output_type": "display_data"
    },
    {
     "name": "stderr",
     "output_type": "stream",
     "text": [
      "C:\\Users\\lhj91\\Anaconda3\\envs\\torch\\lib\\site-packages\\transformers\\models\\auto\\modeling_auto.py:1181: FutureWarning: The class `AutoModelWithLMHead` is deprecated and will be removed in a future version. Please use `AutoModelForCausalLM` for causal language models, `AutoModelForMaskedLM` for masked language models and `AutoModelForSeq2SeqLM` for encoder-decoder models.\n",
      "  FutureWarning,\n"
     ]
    },
    {
     "data": {
      "application/vnd.jupyter.widget-view+json": {
       "model_id": "678419cf97534757bbbb01ee987dd15d",
       "version_major": 2,
       "version_minor": 0
      },
      "text/plain": [
       "Downloading:   0%|          | 0.00/351M [00:00<?, ?B/s]"
      ]
     },
     "metadata": {},
     "output_type": "display_data"
    }
   ],
   "source": [
    "tokenizer = AutoTokenizer.from_pretrained(\"microsoft/DialoGPT-small\")\n",
    "model = AutoModelWithLMHead.from_pretrained(\"microsoft/DialoGPT-small\")"
   ]
  },
  {
   "cell_type": "code",
   "execution_count": null,
   "id": "3d27089f",
   "metadata": {
    "ExecuteTime": {
     "start_time": "2022-12-13T08:59:58.675Z"
    },
    "scrolled": true
   },
   "outputs": [
    {
     "name": "stdout",
     "output_type": "stream",
     "text": [
      ">> User:Hi. friend\n"
     ]
    },
    {
     "name": "stderr",
     "output_type": "stream",
     "text": [
      "A decoder-only architecture is being used, but right-padding was detected! For correct generation results, please set `padding_side='left'` when initializing the tokenizer.\n"
     ]
    },
    {
     "name": "stdout",
     "output_type": "stream",
     "text": [
      "DialoGPT: I'm not your buddy, friend.\n"
     ]
    }
   ],
   "source": [
    "# Let's chat for 5 lines\n",
    "for step in range(5):\n",
    "    # encode the new user input, add the eos_token and return a tensor in Pytorch\n",
    "    new_user_input_ids = tokenizer.encode(input(\">> User:\") + tokenizer.eos_token, return_tensors='pt')\n",
    "\n",
    "    # append the new user input tokens to the chat history\n",
    "    bot_input_ids = torch.cat([chat_history_ids, new_user_input_ids], dim=-1) if step > 0 else new_user_input_ids\n",
    "\n",
    "    # generated a response while limiting the total chat history to 1000 tokens    \n",
    "    chat_history_ids = model.generate(\n",
    "    bot_input_ids, max_length=1000,\n",
    "    pad_token_id=tokenizer.eos_token_id, top_k=100, \n",
    "    )\n",
    "\n",
    "    # pretty print last ouput tokens from bot\n",
    "    print(\"DialoGPT: {}\".format(tokenizer.decode(chat_history_ids[:, bot_input_ids.shape[-1]:][0], skip_special_tokens=True)))"
   ]
  },
  {
   "cell_type": "code",
   "execution_count": 6,
   "id": "db53031d",
   "metadata": {
    "ExecuteTime": {
     "end_time": "2022-12-13T08:36:48.540237Z",
     "start_time": "2022-12-13T08:36:48.389731Z"
    }
   },
   "outputs": [],
   "source": [
    "??model.generate"
   ]
  }
 ],
 "metadata": {
  "hide_input": false,
  "kernelspec": {
   "display_name": "Python 3 (ipykernel)",
   "language": "python",
   "name": "python3"
  },
  "language_info": {
   "codemirror_mode": {
    "name": "ipython",
    "version": 3
   },
   "file_extension": ".py",
   "mimetype": "text/x-python",
   "name": "python",
   "nbconvert_exporter": "python",
   "pygments_lexer": "ipython3",
   "version": "3.7.10"
  },
  "toc": {
   "base_numbering": 1,
   "nav_menu": {},
   "number_sections": true,
   "sideBar": true,
   "skip_h1_title": false,
   "title_cell": "Table of Contents",
   "title_sidebar": "Contents",
   "toc_cell": false,
   "toc_position": {},
   "toc_section_display": true,
   "toc_window_display": true
  }
 },
 "nbformat": 4,
 "nbformat_minor": 5
}
